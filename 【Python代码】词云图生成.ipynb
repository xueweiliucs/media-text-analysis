{
 "cells": [
  {
   "cell_type": "code",
   "execution_count": 1,
   "metadata": {},
   "outputs": [],
   "source": [
    "#coding:utf-8\n",
    "import matplotlib.pyplot as plt\n",
    "from wordcloud import WordCloud,ImageColorGenerator,STOPWORDS\n",
    "#import jieba\n",
    "import numpy as np\n",
    "import pandas as pd\n",
    "from PIL import Image"
   ]
  },
  {
   "cell_type": "code",
   "execution_count": 7,
   "metadata": {},
   "outputs": [],
   "source": [
    "#读入背景图片\n",
    "abel_mask = np.array(Image.open(r\"C:\\Users\\89300\\Pictures\\china.jpg\"))\n",
    "background = np.array(Image.open(r\"C:\\Users\\89300\\Pictures\\background.jpg\"))\n"
   ]
  },
  {
   "cell_type": "code",
   "execution_count": 3,
   "metadata": {},
   "outputs": [
    {
     "data": {
      "text/html": [
       "<div>\n",
       "<style scoped>\n",
       "    .dataframe tbody tr th:only-of-type {\n",
       "        vertical-align: middle;\n",
       "    }\n",
       "\n",
       "    .dataframe tbody tr th {\n",
       "        vertical-align: top;\n",
       "    }\n",
       "\n",
       "    .dataframe thead th {\n",
       "        text-align: right;\n",
       "    }\n",
       "</style>\n",
       "<table border=\"1\" class=\"dataframe\">\n",
       "  <thead>\n",
       "    <tr style=\"text-align: right;\">\n",
       "      <th></th>\n",
       "      <th>title</th>\n",
       "      <th>date</th>\n",
       "      <th>link</th>\n",
       "      <th>content</th>\n",
       "      <th>source</th>\n",
       "      <th>polarity</th>\n",
       "      <th>subjectivity</th>\n",
       "      <th>year</th>\n",
       "    </tr>\n",
       "  </thead>\n",
       "  <tbody>\n",
       "    <tr>\n",
       "      <th>0</th>\n",
       "      <td>japan s abe defends yasukuni shrine visit</td>\n",
       "      <td>2014-01-22</td>\n",
       "      <td>http://blogs.wsj.com/davos/2014/01/22/japans-a...</td>\n",
       "      <td>i had no intention whatsoever to hurt the feel...</td>\n",
       "      <td>HEJ</td>\n",
       "      <td>0.200000</td>\n",
       "      <td>0.200000</td>\n",
       "      <td>2014</td>\n",
       "    </tr>\n",
       "    <tr>\n",
       "      <th>1</th>\n",
       "      <td>shanghai regulator  wealth management products...</td>\n",
       "      <td>2013-01-25</td>\n",
       "      <td>http://blogs.wsj.com/davos/2013/01/25/shanghai...</td>\n",
       "      <td>davos  switzerland wealth management products ...</td>\n",
       "      <td>HEJ</td>\n",
       "      <td>0.074038</td>\n",
       "      <td>0.271154</td>\n",
       "      <td>2013</td>\n",
       "    </tr>\n",
       "    <tr>\n",
       "      <th>2</th>\n",
       "      <td>kazakh banker wedged in dollar yuan conflict</td>\n",
       "      <td>2011-01-26</td>\n",
       "      <td>http://blogs.wsj.com/davos/2011/01/26/kazakh-b...</td>\n",
       "      <td>the head of kazakhstan central bank is no less...</td>\n",
       "      <td>HEJ</td>\n",
       "      <td>0.070833</td>\n",
       "      <td>0.264194</td>\n",
       "      <td>2011</td>\n",
       "    </tr>\n",
       "    <tr>\n",
       "      <th>3</th>\n",
       "      <td>rethinking tiger education</td>\n",
       "      <td>2011-01-26</td>\n",
       "      <td>http://blogs.wsj.com/davos/2011/01/26/tiger-ed...</td>\n",
       "      <td>chinese real estate mogul zhang xin told a pac...</td>\n",
       "      <td>HEJ</td>\n",
       "      <td>-0.133333</td>\n",
       "      <td>0.433333</td>\n",
       "      <td>2011</td>\n",
       "    </tr>\n",
       "    <tr>\n",
       "      <th>4</th>\n",
       "      <td>deloitte plans investment in high growth markets</td>\n",
       "      <td>2011-01-25</td>\n",
       "      <td>http://blogs.wsj.com/davos/2011/01/25/deloitte...</td>\n",
       "      <td>those markets include china  india  brazil  so...</td>\n",
       "      <td>HEJ</td>\n",
       "      <td>0.000000</td>\n",
       "      <td>0.000000</td>\n",
       "      <td>2011</td>\n",
       "    </tr>\n",
       "  </tbody>\n",
       "</table>\n",
       "</div>"
      ],
      "text/plain": [
       "                                               title       date  \\\n",
       "0          japan s abe defends yasukuni shrine visit 2014-01-22   \n",
       "1  shanghai regulator  wealth management products... 2013-01-25   \n",
       "2       kazakh banker wedged in dollar yuan conflict 2011-01-26   \n",
       "3                         rethinking tiger education 2011-01-26   \n",
       "4   deloitte plans investment in high growth markets 2011-01-25   \n",
       "\n",
       "                                                link  \\\n",
       "0  http://blogs.wsj.com/davos/2014/01/22/japans-a...   \n",
       "1  http://blogs.wsj.com/davos/2013/01/25/shanghai...   \n",
       "2  http://blogs.wsj.com/davos/2011/01/26/kazakh-b...   \n",
       "3  http://blogs.wsj.com/davos/2011/01/26/tiger-ed...   \n",
       "4  http://blogs.wsj.com/davos/2011/01/25/deloitte...   \n",
       "\n",
       "                                             content source  polarity  \\\n",
       "0  i had no intention whatsoever to hurt the feel...    HEJ  0.200000   \n",
       "1  davos  switzerland wealth management products ...    HEJ  0.074038   \n",
       "2  the head of kazakhstan central bank is no less...    HEJ  0.070833   \n",
       "3  chinese real estate mogul zhang xin told a pac...    HEJ -0.133333   \n",
       "4  those markets include china  india  brazil  so...    HEJ  0.000000   \n",
       "\n",
       "   subjectivity  year  \n",
       "0      0.200000  2014  \n",
       "1      0.271154  2013  \n",
       "2      0.264194  2011  \n",
       "3      0.433333  2011  \n",
       "4      0.000000  2011  "
      ]
     },
     "execution_count": 3,
     "metadata": {},
     "output_type": "execute_result"
    }
   ],
   "source": [
    "raw = pd.read_excel(\"情感分析.xlsx\",header=0)\n",
    "raw[\"year\"] = raw[\"date\"].dt.year\n",
    "raw.head()"
   ]
  },
  {
   "cell_type": "code",
   "execution_count": 22,
   "metadata": {},
   "outputs": [],
   "source": [
    "def mycloud_out(thetext,thepath):\n",
    "    #通过jieba分词进行分词并通过空格分隔\n",
    "    wordlist = thetext.split()\n",
    "    wl_space_split = \" \".join(wordlist)\n",
    "\n",
    "    #my_wordcloud = WordCloud().generate(wl_space_split) 默认构造函数\n",
    "    my_wordcloud = WordCloud(\n",
    "                background_color='white',    # 设置背景颜色\n",
    "                mask = abel_mask,        # 设置背景图片\n",
    "                max_words = 200,            # 设置最大现实的字数\n",
    "                stopwords = STOPWORDS,        # 设置停用词\n",
    "                #font_path = C:/Users/Windows/fonts/simkai.ttf',# 设置字体格式，如不设置显示不了中文\n",
    "                max_font_size = 50,            # 设置字体最大值\n",
    "                random_state = 30,            # 设置有多少种随机生成状态，即有多少种配色方案\n",
    "                    scale=2\n",
    "                    ).generate(wl_space_split)\n",
    "\n",
    "    # 根据图片生成词云颜色\n",
    "    image_colors = ImageColorGenerator(background)\n",
    "    my_wordcloud.recolor(color_func=image_colors)\n",
    "\n",
    "    my_wordcloud.to_file(thepath)\n",
    "    # 以下代码显示图片\n",
    "    #plt.imshow(my_wordcloud)\n",
    "    #plt.axis(\"off\")\n",
    "    #plt.show()"
   ]
  },
  {
   "cell_type": "code",
   "execution_count": 21,
   "metadata": {},
   "outputs": [],
   "source": [
    "#读取要生成词云的文件\n",
    "dfs = []\n",
    "years = range(2005,2019)\n",
    "for year in years:\n",
    "    dfs.append(raw[raw.year==year])"
   ]
  },
  {
   "cell_type": "code",
   "execution_count": 23,
   "metadata": {},
   "outputs": [],
   "source": [
    "i = 0\n",
    "for df in dfs:\n",
    "    text = \"\"\n",
    "    for title in df[\"title\"]:\n",
    "        text += title\n",
    "    mypath = \"C:\\\\Graph\\\\\" + str(years[i]) + \".jpg\"\n",
    "    mycloud_out(text,mypath)\n",
    "    i += 1"
   ]
  },
  {
   "cell_type": "code",
   "execution_count": 24,
   "metadata": {},
   "outputs": [],
   "source": [
    "#读取要生成词云的文件\n",
    "dfs = []\n",
    "sources = [\"NY\",\"WB\",\"HEJ\",\"JRSB\"]\n",
    "for source in sources:\n",
    "    dfs.append(raw[raw.source == source])"
   ]
  },
  {
   "cell_type": "code",
   "execution_count": 25,
   "metadata": {},
   "outputs": [],
   "source": [
    "i = 0\n",
    "for df in dfs:\n",
    "    text = \"\"\n",
    "    for title in df[\"title\"]:\n",
    "        text += title\n",
    "    mypath = \"C:\\\\Graph\\\\\" + str(sources[i]) + \".jpg\"\n",
    "    mycloud_out(text,mypath)\n",
    "    i += 1"
   ]
  },
  {
   "cell_type": "code",
   "execution_count": null,
   "metadata": {},
   "outputs": [],
   "source": []
  }
 ],
 "metadata": {
  "kernelspec": {
   "display_name": "Python 3",
   "language": "python",
   "name": "python3"
  },
  "language_info": {
   "codemirror_mode": {
    "name": "ipython",
    "version": 3
   },
   "file_extension": ".py",
   "mimetype": "text/x-python",
   "name": "python",
   "nbconvert_exporter": "python",
   "pygments_lexer": "ipython3",
   "version": "3.6.4"
  }
 },
 "nbformat": 4,
 "nbformat_minor": 2
}
